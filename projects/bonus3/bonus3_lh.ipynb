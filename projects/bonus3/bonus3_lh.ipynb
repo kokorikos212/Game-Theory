{
 "cells": [
  {
   "cell_type": "code",
   "execution_count": 36,
   "id": "63cf2f20-92c1-4d8b-9929-9b250ae4dfe8",
   "metadata": {},
   "outputs": [],
   "source": [
    "import nashpy as ne \n",
    "import numpy as np \n",
    "from nashpy.linalg.tableau import Tableau"
   ]
  },
  {
   "cell_type": "markdown",
   "id": "77f54d92-983d-4af0-bb72-779c157966b1",
   "metadata": {},
   "source": [
    "΄Ασκηση 8. [Bonus] Χρησιμοποιήστε την βιβλιοθήκη nashpy ώστε να υπολογίσετε όλα τα\n",
    "σημεία ισορροπίας Nash του παιγνίου που δίνεται στην ΄Ασκηση 1. Να χρησιμοποιήσετε τόσο\n",
    "τον αλγόριθμο Lemke-Howson όσο και τον αλγόριθμο απαρίθμησης φορέα. Στην συνέχεια να\n",
    "προγραμματίσετε ένα γραμμικό πρόγραμμα που να επιστρέφει τουλάχιστον ένα συσχετισμένο\n",
    "σημείο ισορροπίας το οποίο να μην είναι σημείο ισορροπίας Nash."
   ]
  },
  {
   "cell_type": "markdown",
   "id": "fad0dd89-169b-4d5b-8ea1-c43870a33092",
   "metadata": {},
   "source": [
    "Αρχικά ορίζουμε τους πίνακες και κατασκευάζουμε το αντίστοιχο παίγνιο ως αντικείμενο της naspy."
   ]
  },
  {
   "cell_type": "code",
   "execution_count": 86,
   "id": "4b233144-c5d5-4adb-997f-ddff001215a7",
   "metadata": {},
   "outputs": [],
   "source": [
    "A = np.matrix([[1,3,0],\n",
    "              [0,0,2],\n",
    "              [2,1,1]])  \n",
    "\n",
    "B = np.matrix([[2,1,0],\n",
    "               [1,3,1],\n",
    "               [0,0,3]]) \n",
    "\n",
    "game = ne.Game(A,B) "
   ]
  },
  {
   "cell_type": "markdown",
   "id": "925ca51b-10ee-417c-b3b1-557f2efe9ae2",
   "metadata": {},
   "source": [
    "Ο αλγόριθμος Lemke-Hawson υλοποιείται στην nashpy με την χρήση της αντίστοιχης μεθόδου. Επιλέγουμε να \"πετάξουμε\" την επισήμανση 0. "
   ]
  },
  {
   "cell_type": "code",
   "execution_count": 87,
   "id": "0f05c94a-01d5-4ee7-be87-6436f2b6f5f4",
   "metadata": {},
   "outputs": [
    {
     "name": "stdout",
     "output_type": "stream",
     "text": [
      "Η στρατηγική του παίκτη γραμμής: [0.46153846 0.23076923 0.30769231]\n",
      "Η στρατηγική του παίκτη στήλης: [0.11111111 0.33333333 0.55555556]\n"
     ]
    }
   ],
   "source": [
    "equilibrium = game.lemke_howson(initial_dropped_label=0)\n",
    "\n",
    "sigma_r, sigma_c = equilibrium\n",
    "print(\"Η στρατηγική του παίκτη γραμμής:\", sigma_r)\n",
    "print(\"Η στρατηγική του παίκτη στήλης:\", sigma_c)"
   ]
  },
  {
   "cell_type": "markdown",
   "id": "06e6bbb1-7462-4513-bbbc-32cb325a1df3",
   "metadata": {},
   "source": [
    "Μπορούμε να προσπαθήσουμε να βρούμε όλα τα σημεία ισορροπίας ως εξής:"
   ]
  },
  {
   "cell_type": "code",
   "execution_count": 89,
   "id": "7c93517d-c0e0-4f4a-bf91-e8896c6d42b1",
   "metadata": {},
   "outputs": [
    {
     "name": "stdout",
     "output_type": "stream",
     "text": [
      "(array([0.46153846, 0.23076923, 0.30769231]), array([0.11111111, 0.33333333, 0.55555556]))\n"
     ]
    }
   ],
   "source": [
    "print(  game.lemke_howson(initial_dropped_label=label) )"
   ]
  },
  {
   "cell_type": "markdown",
   "id": "98b38552-6ef8-484f-84cc-54a3abcccedf",
   "metadata": {},
   "source": [
    "Μπορούμε να ρίξουμε μία ματιά στην περιγραφή της μεθόδου lemke_howson ως εξής:"
   ]
  },
  {
   "cell_type": "code",
   "execution_count": 93,
   "id": "73b2314a-3044-49c0-98ec-7eeb93ed4449",
   "metadata": {},
   "outputs": [
    {
     "name": "stdout",
     "output_type": "stream",
     "text": [
      "    def lemke_howson(self, initial_dropped_label):\n",
      "        \"\"\"\n",
      "        Obtain the Nash equilibria using the Lemke Howson algorithm implemented\n",
      "        using integer pivoting.\n",
      "\n",
      "        Algorithm implemented here is Algorithm 3.6 of [Nisan2007]_.\n",
      "\n",
      "        1. Start at the artificial equilibrium (which is fully labeled)\n",
      "        2. Choose an initial label to drop and move in the polytope for which\n",
      "           the vertex has that label to the edge\n",
      "           that does not share that label. (This is implemented using integer\n",
      "           pivoting)\n",
      "        3. A label will now be duplicated in the other polytope, drop it in a\n",
      "           similar way.\n",
      "        4. Repeat steps 2 and 3 until have Nash Equilibrium.\n",
      "\n",
      "        Parameters\n",
      "        ----------\n",
      "        initial_dropped_label: int\n",
      "            The initial dropped label.\n",
      "\n",
      "        Returns\n",
      "        -------\n",
      "        Tuple\n",
      "            An equilibria\n",
      "        \"\"\"\n",
      "        return lemke_howson(\n",
      "            *self.payoff_matrices, initial_dropped_label=initial_dropped_label\n",
      "        )\n",
      "\n"
     ]
    }
   ],
   "source": [
    "print(inspect.getsource(game.lemke_howson))"
   ]
  },
  {
   "cell_type": "markdown",
   "id": "b0f48709-ecb8-40ea-9cb2-1b1ffa1321ca",
   "metadata": {},
   "source": [
    "Ο αλγόριθμος απαρίθμησης φορέα είναι επίσης απλούστατος στην εφαρμογή του και εγκυάται να βρει όλα τα αμιγή αλλά και μικτά σημεία ισορροπίας.  "
   ]
  },
  {
   "cell_type": "code",
   "execution_count": 74,
   "id": "c24355b8-35bb-4590-ae46-94397734ec20",
   "metadata": {},
   "outputs": [
    {
     "name": "stdout",
     "output_type": "stream",
     "text": [
      "[(array([0.46153846, 0.23076923, 0.30769231]), array([0.11111111, 0.33333333, 0.55555556]))]\n"
     ]
    }
   ],
   "source": [
    "equilibria = list(game.support_enumeration() ) \n",
    "print(equilibria) "
   ]
  },
  {
   "cell_type": "markdown",
   "id": "5276a128-7949-4924-9d0d-b53669fc2b17",
   "metadata": {},
   "source": [
    "Τωρα θελουμε να δημιουργήσουμε ένα γραμμικό πρόγραμμα το οποίο να μας δίνει τουλάχιστον ένα συσχετισμένο σημείο ισορροπίας το οποίο να μην είναι σημείο ισορροπίας Nash. Η βιβλιοθήκη scipy.optimize διαχειρίζεται καλύτερα τα γραμμικά προγράμματα οπότε θα χρησιμοποιήσουμε αυτήν. Τα LP's (linear programs) έχουν την παρακάτω μορφή (εδώ λύνουμε το πρόβλημα τρία του δεύτερου φυλλαδίου για το οποίο να παρατηρίσουμε ότι χρειάστικε να πάρουμε το αρνητικό του διανύσματος c για να λύσουμε ενα πρόβλημα μεγιστοποίησης και πως το υποφαινόμενο διάνυσμα marginals=[-2.000e-01 -2.000e+00 -1.400e+00] είναι η λύση του δϋικού προβλήματος)."
   ]
  },
  {
   "cell_type": "code",
   "execution_count": 90,
   "id": "52c3d20e-62ef-400b-b4dd-85c008222ac6",
   "metadata": {},
   "outputs": [
    {
     "data": {
      "text/plain": [
       "        message: Optimization terminated successfully. (HiGHS Status 7: Optimal)\n",
       "        success: True\n",
       "         status: 0\n",
       "            fun: -18.0\n",
       "              x: [ 1.333e+00  6.667e-01  6.667e-01]\n",
       "            nit: 3\n",
       "          lower:  residual: [ 1.333e+00  6.667e-01  6.667e-01]\n",
       "                 marginals: [ 0.000e+00  0.000e+00  0.000e+00]\n",
       "          upper:  residual: [       inf        inf        inf]\n",
       "                 marginals: [ 0.000e+00  0.000e+00  0.000e+00]\n",
       "          eqlin:  residual: []\n",
       "                 marginals: []\n",
       "        ineqlin:  residual: [ 0.000e+00  0.000e+00  0.000e+00]\n",
       "                 marginals: [-2.000e-01 -2.000e+00 -1.400e+00]\n",
       " mip_node_count: 0\n",
       " mip_dual_bound: 0.0\n",
       "        mip_gap: 0.0"
      ]
     },
     "execution_count": 90,
     "metadata": {},
     "output_type": "execute_result"
    }
   ],
   "source": [
    "from scipy.optimize import linprog \n",
    "\n",
    "A_ub = np.array([[3, 4, 2],\n",
    "                 [2, 1, 1],\n",
    "                 [1, 3, 4]]) \n",
    "\n",
    "b = np.array([8, 4, 6 ]) \n",
    "c = -np.array([6, 7, 8])  \n",
    "\n",
    "bounds = [(0, None)] * 3\n",
    "\n",
    "res = linprog(c, A_ub=A_ub, b_ub=b, bounds= bounds)\n",
    "res "
   ]
  },
  {
   "cell_type": "markdown",
   "id": "74e9c61c-2dc9-45fc-a5e2-ac9a61a036b5",
   "metadata": {},
   "source": [
    "Για να βρούμε μία συσχετισμένη ισορροπία θεωρούμε κατανομή: <br>\n",
    "$$χ = \\begin{bmatrix}\n",
    "a_1 & a_2 & a_3 \\\\\n",
    "a_4 & a_5 & a_6\\\\\n",
    "a_7 & a_8 & a_9\n",
    "\\end{bmatrix}\n",
    "$$\n",
    "\n",
    "Για να είναι η $χ$ συσχετισμένη ισορροπία θα πρέπει\n",
    "να ισχύει $E_{σ∼χ}[u_i(σ)|s_i] ≥ E_{σ∼χ}[u_i(s'_i\n",
    "; σ_{−i})|s_i\n",
    "], ∀s'_i ∈ S_i$ και για κάθε $i ∈ N$. Αυτό μεταφράζεται στον έλεγχο ανισοτήτων της μορφής:\n",
    "$$\\sum_j A_{i,j} \\cdot \\chi_{i,j} \\geq \\sum_j A_{k,j} \\cdot \\chi_{i,j}\n",
    "\\quad \\text{(παίκτης 1: αποκλίνει από } i \\rightarrow k)$$ <br>\n",
    "ή \n",
    "$$\\sum_i B_{i,j} \\cdot \\chi_{i,j} \\geq \\sum_i B_{i,k} \\cdot \\chi_{i,j}\n",
    "\\quad \\text{(παίκτης 2: αποκλίνει από } j \\rightarrow k)$$\n",
    "Εδώ θα εκφράσουμε τις παραπανω ανισώτητες σε συμβολική μορφή για να δουμε την μορφή του γραμμικού προγράμματος που θα λύθεί για να βρούμε τα συσχετισμένα σημεία."
   ]
  },
  {
   "cell_type": "code",
   "execution_count": 95,
   "id": "2f06a9ad-b96c-4163-90ad-7588a2b94d3d",
   "metadata": {},
   "outputs": [
    {
     "data": {
      "text/plain": [
       "[p00 + 3*p01 >= 2*p02,\n",
       " p00 + 3*p01 >= 2*p00 + p01 + p02,\n",
       " 2*p12 >= p10 + 3*p11,\n",
       " 2*p12 >= 2*p10 + p11 + p12,\n",
       " 2*p20 + p21 + p22 >= p20 + 3*p21,\n",
       " 2*p20 + p21 + p22 >= 2*p22,\n",
       " 2*p00 + p10 >= p00 + 3*p10,\n",
       " 2*p00 + p10 >= p10 + 3*p20,\n",
       " p01 + 3*p11 >= 2*p01 + p11,\n",
       " p01 + 3*p11 >= p11 + 3*p21,\n",
       " p12 + 3*p22 >= 2*p02 + p12,\n",
       " p12 + 3*p22 >= p02 + 3*p12,\n",
       " Eq(p00 + p01 + p02 + p10 + p11 + p12 + p20 + p21 + p22, 1)]"
      ]
     },
     "execution_count": 95,
     "metadata": {},
     "output_type": "execute_result"
    }
   ],
   "source": [
    "import sympy as sp \n",
    "\n",
    "p = sp.Matrix(3, 3, lambda i, j: sp.Symbol(f'p{i}{j}', nonnegative=True))\n",
    "\n",
    "sum_to_1 = sp.Eq(sum(p[i, j] for i in range(3) for j in range(3)), 1)\n",
    "\n",
    "constraints = []\n",
    "\n",
    "# Player 1: Ελεγχος αποκλισης απο ι σε ι\n",
    "for i in range(3):\n",
    "    for ip in range(3):\n",
    "        if i == ip: continue\n",
    "        lhs = sum(p[i, j] * A[i, j] for j in range(3))\n",
    "        rhs = sum(p[i, j] * A[ip, j] for j in range(3))\n",
    "        constraints.append(sp.Ge(lhs, rhs))\n",
    "\n",
    "# Player 2: Ελεγχος αποκλισης απο j σε j\n",
    "for j in range(3):\n",
    "    for jp in range(3):\n",
    "        if j == jp: continue\n",
    "        lhs = sum(p[i, j] * B[i, j] for i in range(3))\n",
    "        rhs = sum(p[i, j] * B[i, jp] for i in range(3))\n",
    "        constraints.append(sp.Ge(lhs, rhs))\n",
    "\n",
    "# Add normalization constraint\n",
    "constraints.append(sum_to_1)\n",
    "constraints "
   ]
  },
  {
   "cell_type": "markdown",
   "id": "2209ffba-5c73-4c3c-aa83-b1d4d0d8d717",
   "metadata": {},
   "source": [
    "Με την ίδια μεθοδολωγία μπορούμε να δημιουργήσουμε και το σύστημα σε μορφή που "
   ]
  },
  {
   "cell_type": "code",
   "execution_count": 97,
   "id": "485cff11-78a7-42db-b892-6985b92b30b7",
   "metadata": {},
   "outputs": [
    {
     "name": "stdout",
     "output_type": "stream",
     "text": [
      "Συσχετισμένο σημείο:\n",
      "[[0.174 0.087 0.   ]\n",
      " [0.    0.043 0.348]\n",
      " [0.116 0.    0.232]]\n"
     ]
    }
   ],
   "source": [
    "n = A.shape[0]\n",
    "\n",
    "# Θα φτιάξουμε το διάνυσμα x με διάταξη p_00, p_01, ..., p_0(n-1), p_10, ..., p_(n-1)(n-1)\n",
    "\n",
    "# sum of all p_ij = 1\n",
    "A_eq = np.ones((1, n*n))\n",
    "b_eq = np.array([1])\n",
    "\n",
    "# Πιθανότητες μη αρνητικές:\n",
    "bounds = [(0, None) for _ in range(n*n)]\n",
    "\n",
    "# Συνθήκες συσχετισμένου σημείου :\n",
    "\n",
    "# Για κάθε i, i' ≠ i:\n",
    "# sum_j p(i,j)*A[i,j] >= sum_j p(i,j)*A[i',j]\n",
    "# Δηλαδή: sum_j (p(i,j)*(A[i,j] - A[i',j])) >= 0\n",
    "\n",
    "# Για κάθε j, j' ≠ j:\n",
    "# sum_i p(i,j)*B[i,j] >= sum_i p(i,j)*B[i,j']\n",
    "# Δηλαδή: sum_i (p(i,j)*(B[i,j] - B[i,j'])) >= 0\n",
    "\n",
    "ineqs = []\n",
    "b_ineqs = []\n",
    "\n",
    "# Για παίκτη 1\n",
    "for i in range(n):\n",
    "    for i_prime in range(n):\n",
    "        if i != i_prime:\n",
    "            coeff = np.zeros(n*n)\n",
    "            for j in range(n):\n",
    "                coeff[i*n + j] = A[i,j] - A[i_prime,j]\n",
    "            ineqs.append(-coeff)  # -coeff ≤ 0 (ανισότητα σε μορφή Ax ≤ b)\n",
    "            b_ineqs.append(0)\n",
    "\n",
    "# Για παίκτη 2\n",
    "for j in range(n):\n",
    "    for j_prime in range(n):\n",
    "        if j != j_prime:\n",
    "            coeff = np.zeros(n*n)\n",
    "            for i in range(n):\n",
    "                coeff[i*n + j] = B[i,j] - B[i,j_prime]\n",
    "            ineqs.append(-coeff)  # -coeff ≤ 0\n",
    "            b_ineqs.append(0)\n",
    "\n",
    "A_ub = np.array(ineqs)\n",
    "b_ub = np.array(b_ineqs)\n",
    "\n",
    "c = np.ones(n*n)\n",
    "\n",
    "res = linprog(c, A_ub=A_ub, b_ub=b_ub, A_eq=A_eq, b_eq=b_eq, bounds=bounds, method='highs')\n",
    "\n",
    "print(\"Συσχετισμένο σημείο:\")\n",
    "if res.success:\n",
    "    print(res.x.reshape(n,n).round(3))\n",
    "else:\n",
    "    print(\"Δεν βρέθηκε λύση:\", res.message)\n"
   ]
  },
  {
   "cell_type": "code",
   "execution_count": null,
   "id": "996e66e0-98ae-4527-b45a-5e694ed97026",
   "metadata": {},
   "outputs": [],
   "source": []
  }
 ],
 "metadata": {
  "kernelspec": {
   "display_name": "Python 3 (ipykernel)",
   "language": "python",
   "name": "python3"
  },
  "language_info": {
   "codemirror_mode": {
    "name": "ipython",
    "version": 3
   },
   "file_extension": ".py",
   "mimetype": "text/x-python",
   "name": "python",
   "nbconvert_exporter": "python",
   "pygments_lexer": "ipython3",
   "version": "3.10.12"
  }
 },
 "nbformat": 4,
 "nbformat_minor": 5
}
