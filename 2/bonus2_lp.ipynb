{
 "cells": [
  {
   "cell_type": "code",
   "execution_count": 1,
   "id": "77c94671-e953-48fe-867c-f8e27f995b03",
   "metadata": {},
   "outputs": [],
   "source": [
    "# !pip install nashpy w"
   ]
  },
  {
   "cell_type": "code",
   "execution_count": 1,
   "id": "1616a85c-0fc8-43f7-9f19-8f9878753f19",
   "metadata": {},
   "outputs": [],
   "source": [
    "import numpy as np \n",
    "import nashpy as ne\n",
    "from scipy.optimize import linprog \n",
    "import matplotlib.pyplot as plt "
   ]
  },
  {
   "cell_type": "code",
   "execution_count": 2,
   "id": "e8be1a04-3883-496b-94ac-3d36d7f83181",
   "metadata": {},
   "outputs": [],
   "source": [
    "def create_game_matrix(n_strategies):\n",
    "    \"\"\"Δημιουργεί τον πίνακα πληρωμής του παίκτη γραμμής με μοναδιμκό όρισμα τον αριθμό των δυνατών στρατηγικών. Ο παίκτης στήλης έχει πίνακα Β=-Α\"\"\"\n",
    "    n = n_strategies\n",
    "    A = np.zeros((n, n), dtype=int)\n",
    "\n",
    "    rows, cols = np.indices((n, n))\n",
    "    delta = cols - rows\n",
    "\n",
    "    A[delta == 1] = -1\n",
    "    A[delta > 1]  = 2\n",
    "    A[delta == -1] = 1\n",
    "    A[delta < -1] = -2\n",
    "\n",
    "    return A "
   ]
  },
  {
   "cell_type": "code",
   "execution_count": 4,
   "id": "311ab3ee-3d77-4062-9ddc-bf64b1ce4ac7",
   "metadata": {},
   "outputs": [
    {
     "name": "stdout",
     "output_type": "stream",
     "text": [
      "[[ 0 -1  2  2  2  2  2]\n",
      " [ 1  0 -1  2  2  2  2]\n",
      " [-2  1  0 -1  2  2  2]\n",
      " [-2 -2  1  0 -1  2  2]\n",
      " [-2 -2 -2  1  0 -1  2]\n",
      " [-2 -2 -2 -2  1  0 -1]\n",
      " [-2 -2 -2 -2 -2  1  0]]\n"
     ]
    }
   ],
   "source": [
    "A = create_game_matrix(7) \n",
    "print(A) "
   ]
  },
  {
   "cell_type": "markdown",
   "id": "d2ac70b2-89f1-4ae0-9169-08fe36c3ccc6",
   "metadata": {},
   "source": [
    "Παρατηρούμε πως η στον πίνακα Α του παίκτη γραμμής οι στρατηγικές του i>=4 είναι \"ποτέ βέλτιστες\", είναι δηλαδή ασθενώς κυριαρχημένες. Όπως θα δούμε και παρακάτω αυτό βγαίνει σαν συμπέρασμα και από τα αποτελέσματα των λύσεων των αντίστοιχων γραμμικών συστημάτων. Μπορούμε να χρησιμοποιήσουμε την απαλοιφή κυριαρχημένων στρατηγικών για να απλοποιήσουμε τον πίνακα Α.  "
   ]
  },
  {
   "cell_type": "code",
   "execution_count": null,
   "id": "76512858-f2e0-46a6-9a4c-1392b2de8406",
   "metadata": {},
   "outputs": [],
   "source": [
    "def solve_game_with_nashpy(A):\n",
    "    \"\"\"\n",
    "    Λύνει παίγνιο μηδενικού αθροίσματος με τη βιβλιοθήκη nashpy.\n",
    "    \n",
    "    Parameters:\n",
    "        A (ndarray): Πίνακας πληρωμών του Παίκτη 1 (n x n)\n",
    "\n",
    "    Returns:\n",
    "        dict: Βέλτιστες μικτές στρατηγικές και τιμή παιγνίου\n",
    "    \"\"\"\n",
    "    game = ne.Game(A, -A)  \n",
    "\n",
    "    equilibria = list(game.support_enumeration())\n",
    "\n",
    "    results = []\n",
    "    for eq in equilibria:\n",
    "        x, y = eq\n",
    "        value = x @ A @ y\n",
    "        results.append({\n",
    "            \"player_1_strategy\": x,\n",
    "            \"player_2_strategy\": y,\n",
    "            \"value\": value\n",
    "        })\n",
    "\n",
    "    return results"
   ]
  },
  {
   "cell_type": "code",
   "execution_count": 6,
   "id": "b069463c-d29d-443f-b33d-2f3790bf340d",
   "metadata": {},
   "outputs": [
    {
     "name": "stdout",
     "output_type": "stream",
     "text": [
      "Λύση 1:\n",
      "Στρατηγική Παίκτη 1: [0.25 0.5  0.25 0.   0.   0.   0.  ]\n",
      "Στρατηγική Παίκτη 2: [0.25 0.5  0.25 0.   0.   0.   0.  ]\n",
      "Τιμή παιγνίου: 0.0\n"
     ]
    }
   ],
   "source": [
    "# Παράδειγμα: Matching Pennies\n",
    "\n",
    "solutions = solve_game_with_nashpy(A)\n",
    "\n",
    "for i, sol in enumerate(solutions):\n",
    "    print(f\"Λύση {i+1}:\")\n",
    "    print(\"Στρατηγική Παίκτη 1:\", sol[\"player_1_strategy\"])\n",
    "    print(\"Στρατηγική Παίκτη 2:\", sol[\"player_2_strategy\"])\n",
    "    print(\"Τιμή παιγνίου:\", sol[\"value\"])"
   ]
  },
  {
   "cell_type": "code",
   "execution_count": 7,
   "id": "1088d3e1-bd0a-45cf-a9be-aa1694621aa6",
   "metadata": {},
   "outputs": [],
   "source": [
    "from time import time \n",
    "def timer_func(func):\n",
    "    # This function shows the execution time of \n",
    "    # the function object passed\n",
    "    def wrap_func(*args, **kwargs):\n",
    "        t1 = time()\n",
    "        result = func(*args, **kwargs)\n",
    "        t2 = time()\n",
    "        # print(f'Function {func.__name__!r} with m,n = {args[0].shape} executed in {(t2-t1):.4f}s')\n",
    "        if isinstance(result, dict):\n",
    "            result['runtime'] = t2-t1\n",
    "            result['dimention'] = np.shape(args)[1]\n",
    "        return result \n",
    "    return wrap_func"
   ]
  },
  {
   "cell_type": "code",
   "execution_count": 8,
   "id": "84404e15-bca3-4e4f-8be2-02db20af2195",
   "metadata": {},
   "outputs": [],
   "source": [
    "@timer_func\n",
    "def solve_zero_sum_game(A):\n",
    "    \"\"\"\n",
    "    Λύνει το πρόβλημα του Παίκτη 1 με χρήση γραμμικού προγραμματισμού.\n",
    "\n",
    "    Parameters:\n",
    "        A (ndarray): Πίνακας πληρωμών Παίκτη 1\n",
    "\n",
    "    Returns:\n",
    "        dict: Περιλαμβάνει στρατηγική Παίκτη 1, τιμή παιγνίου και επιτυχία\n",
    "    \"\"\"\n",
    "    m, n = A.shape\n",
    "    c = np.zeros(m + 1)\n",
    "    c[-1] = -1  # Μεγιστοποίηση της τιμής του παιγνίου v\n",
    "\n",
    "    A_ub = np.hstack([-A.T, np.ones((n, 1))])  # λ.T A ≤ v\n",
    "    b_ub = np.zeros(n)\n",
    "\n",
    "    A_eq = np.zeros((1, m + 1))\n",
    "    A_eq[0, :-1] = 1\n",
    "    b_eq = [1]\n",
    "\n",
    "    bounds = [(0, None)] * (m + 1)\n",
    "\n",
    "    res = linprog(c=c, A_ub=A_ub, b_ub=b_ub, A_eq=A_eq, b_eq=b_eq, bounds=bounds, method=\"highs\")\n",
    "\n",
    "    return {\n",
    "        \"success\": res.success,\n",
    "        \"value\": -res.fun if res.success else None,\n",
    "        \"strategy\": res.x[:-1] if res.success else None,\n",
    "        \"status\": res.message\n",
    "    }"
   ]
  },
  {
   "cell_type": "markdown",
   "id": "3ec2990d-c89e-413a-8532-c952823ccc44",
   "metadata": {},
   "source": [
    "Θα δοκιμάσουμε διαφορετικά μεγέθη πινάκων για να δούμε πως αυξάνεται ο χρόνος υπολογισμού των βέλτιστων στρατηγικών προφίλ."
   ]
  },
  {
   "cell_type": "code",
   "execution_count": 9,
   "id": "247a0b28-04d9-4642-ba94-aef37b401a32",
   "metadata": {},
   "outputs": [],
   "source": [
    "results = []\n",
    "for i in range(2,25):\n",
    "    n = create_game_matrix(i**2)\n",
    "    A = (n)\n",
    "    result = solve_zero_sum_game(A) \n",
    "    results.append(result) "
   ]
  },
  {
   "cell_type": "code",
   "execution_count": null,
   "id": "75972784-a11e-4dbb-ae47-586c687f2b61",
   "metadata": {},
   "outputs": [
    {
     "data": {
      "image/png": "[encoded data removed]",
      "text/plain": [
       "<Figure size 640x480 with 1 Axes>"
      ]
     },
     "metadata": {},
     "output_type": "display_data"
    }
   ],
   "source": [
    "runtimes = [entry['runtime'] for entry in results]\n",
    "\n",
    "plt.plot(runtimes, \"ro\",label=\"runtimes\" )\n",
    "plt.plot(runtimes)\n",
    "\n",
    "plt.legend()\n",
    "plt.xlabel('Instance Index')\n",
    "plt.ylabel('Runtime (s)')\n",
    "plt.title('Runtimes per Instance')\n",
    "plt.grid() \n",
    "plt.show() "
   ]
  },
  {
   "cell_type": "markdown",
   "id": "6ac80a87-6d24-44f8-beee-a0455f18601a",
   "metadata": {},
   "source": [
    "Πρατηρούμε ότι ο χρόνος αυξάνεται αρκετά γρήγορα για αυτό θα ρησιμοποιήσουμε την απαλοιφή τον ποτέ βέλτιστων στρατηγικών όπως αναφέραμε παραπάνω. Στο πρόβλημά μας θεωρητικά μπορούμε να απαλείψουμε όλες τις στήλες γραμμές από τη τεταρτη και μετά. Ο παρακάτω αλγόριθμος δουλεύει και για πίνακες που δεν αφορούν συγκεκριμμένα το πρόβλημα που παρουσιάζεται εδώ και βασίζεται στην ιδέα πως αν μια γραμμη κυριαρχεί ασθενώς πάνω σε μία άλλη, τότε κυριαρχεί και πανω σε όλες αυτές οι οποίες κυριαρχούνται απο αυτήν. Αν λοιπόν βρούμε κάποια που κυριαρχείται θα την θέσουμε ως αυτή με την οποία συγκρίνουμε μέχρι να τις συγκρίνουμε όλες. Θα τον τρέξουμε και θα δούμε πόσο βελτιώθηκε ο συνολικός χρόνος. "
   ]
  },
  {
   "cell_type": "code",
   "execution_count": null,
   "id": "26db46c7-de95-473e-8a79-05b6c6198d16",
   "metadata": {},
   "outputs": [],
   "source": [
    "\n",
    "def remove_weakly_dominated_rows(A, strict=False):\n",
    "    \"\"\"\n",
    "    Αφαιρεί γραμμές που είναι ασθενώς κυριαρχούμενες από άλλες.\n",
    "    \n",
    "    Αν strict=True, αφαιρεί μόνο αυστηρά κυριαρχούμενες γραμμές.\n",
    "    Αν strict=False, εφαρμόζει και επαγωγική ασθενή κυριαρχία.\n",
    "    \n",
    "    \"\"\"\n",
    "    A = np.array(A, dtype=float)\n",
    "    keep = np.ones(A.shape[0], dtype=bool)  # όλες οι γραμμές στην αρχή θεωρούνται χρήσιμες\n",
    "    \n",
    "    changed = True\n",
    "    while changed:\n",
    "        changed = False\n",
    "        for i in range(A.shape[0]):\n",
    "            if not keep[i]:\n",
    "                continue\n",
    "            for j in range(A.shape[0]):\n",
    "                if i == j or not keep[j]:\n",
    "                    continue\n",
    "                # Έλεγχουμε κυριαρχία: γραμμή j κυριαρχεί τη γραμμή i\n",
    "                if strict:\n",
    "                    dominates = np.all(A[j] > A[i])\n",
    "                else:\n",
    "                    dominates = np.all(A[j] >= A[i]) and np.any(A[j] > A[i])\n",
    "                if dominates:\n",
    "                    keep[i] = False\n",
    "                    changed = True\n",
    "                    break  # ξαναξεκινάμε γιατί άλλαξε κάτι\n",
    "    \n",
    "    return A[keep]\n",
    " \n",
    "def remove_weakly_dominated_columns(A, strict=False):\n",
    "    return remove_weakly_dominated_rows(A.T, strict).T"
   ]
  },
  {
   "cell_type": "code",
   "execution_count": 13,
   "id": "3e942a11-eff5-42fd-af02-9ecd847791bf",
   "metadata": {},
   "outputs": [
    {
     "data": {
      "text/plain": [
       "(576, 576)"
      ]
     },
     "execution_count": 13,
     "metadata": {},
     "output_type": "execute_result"
    }
   ],
   "source": [
    "np.shape(A) "
   ]
  },
  {
   "cell_type": "code",
   "execution_count": 33,
   "id": "d5a9abe4-9bac-4f0c-bae5-81afbdcc3611",
   "metadata": {},
   "outputs": [],
   "source": [
    "@timer_func\n",
    "def solve_reduced_game(A):\n",
    "    A_red = remove_weakly_dominated_rows(A, strict=False)\n",
    "    print(np.shape(A_red))\n",
    "    # Για να απαλείψουμε τις κυριαρχημενες στρατηγικές του παίκτη στηλών θα πάρουμε τον Β=-Α\n",
    "    B_red = remove_weakly_dominated_columns(-A_red, strict=False)\n",
    "    print(np.shape(B_red)) \n",
    "    A_red = -B_red\n",
    "    return solve_zero_sum_game(A_red)"
   ]
  },
  {
   "cell_type": "code",
   "execution_count": 34,
   "id": "69bd4ba2-85b3-4be2-82d2-8335b34d5f79",
   "metadata": {},
   "outputs": [
    {
     "name": "stdout",
     "output_type": "stream",
     "text": [
      "shapes after reductions:\n",
      "\n",
      "(3, 4)\n",
      "(3, 3)\n",
      "(3, 9)\n",
      "(3, 3)\n",
      "(3, 16)\n",
      "(3, 3)\n",
      "(3, 25)\n",
      "(3, 3)\n",
      "(3, 36)\n",
      "(3, 3)\n",
      "(3, 49)\n",
      "(3, 3)\n",
      "(3, 64)\n",
      "(3, 3)\n",
      "(3, 81)\n",
      "(3, 3)\n",
      "(3, 100)\n",
      "(3, 3)\n",
      "(3, 121)\n",
      "(3, 3)\n",
      "(3, 144)\n",
      "(3, 3)\n",
      "(3, 169)\n",
      "(3, 3)\n",
      "(3, 196)\n",
      "(3, 3)\n",
      "(3, 225)\n",
      "(3, 3)\n",
      "(3, 256)\n",
      "(3, 3)\n",
      "(3, 289)\n",
      "(3, 3)\n",
      "(3, 324)\n",
      "(3, 3)\n",
      "(3, 361)\n",
      "(3, 3)\n",
      "(3, 400)\n",
      "(3, 3)\n",
      "(3, 441)\n",
      "(3, 3)\n",
      "(3, 484)\n",
      "(3, 3)\n",
      "(3, 529)\n",
      "(3, 3)\n",
      "(3, 576)\n",
      "(3, 3)\n"
     ]
    }
   ],
   "source": [
    "results = []\n",
    "print(\"shapes after reductions:\\n\")\n",
    "for i in range(2,25):\n",
    "    A = create_game_matrix(i**2)\n",
    "    result = solve_reduced_game(A)  \n",
    "    results.append(result) \n",
    "    "
   ]
  },
  {
   "cell_type": "code",
   "execution_count": null,
   "id": "6e15ec7c-e358-4ff9-8bfb-f0faa608a399",
   "metadata": {},
   "outputs": [
    {
     "data": {
      "image/png": "[encoded data removed]",
      "text/plain": [
       "<Figure size 640x480 with 1 Axes>"
      ]
     },
     "metadata": {},
     "output_type": "display_data"
    }
   ],
   "source": [
    "runtimes = [entry['runtime'] for entry in results]\n",
    "\n",
    "plt.plot(runtimes, \"ro\",label=\"runtimes\" )\n",
    "plt.plot(runtimes)\n",
    "\n",
    "plt.legend()\n",
    "plt.xlabel('Instance Index')\n",
    "plt.ylabel('Runtime (s)')\n",
    "plt.title('Runtimes per Instance')\n",
    "plt.grid() \n",
    "plt.show() "
   ]
  },
  {
   "cell_type": "markdown",
   "id": "d6ca4e9d",
   "metadata": {},
   "source": [
    "Παρατηρούμε ότι για μικρούς πίνακες το κόστος του υπολογισμού δεν μ,ειώνεται δραματικά. Ας δοκιμασουμε όμως και έναν μεγαλύτερο πίνακα."
   ]
  },
  {
   "cell_type": "code",
   "execution_count": 37,
   "id": "5bc3eade",
   "metadata": {},
   "outputs": [
    {
     "name": "stdout",
     "output_type": "stream",
     "text": [
      "(3, 1000)\n",
      "(3, 3)\n"
     ]
    }
   ],
   "source": [
    "A = create_game_matrix(1000)\n",
    "r1 = solve_zero_sum_game(A) \n",
    "r2 = solve_reduced_game(A) "
   ]
  },
  {
   "cell_type": "code",
   "execution_count": 41,
   "id": "76c72b94",
   "metadata": {},
   "outputs": [
    {
     "name": "stdout",
     "output_type": "stream",
     "text": [
      "Non reduced: 1.191354751586914 \n",
      " Reduced: 0.05146169662475586\n"
     ]
    }
   ],
   "source": [
    "print(\"Non reduced:\",r1[\"runtime\"],\"\\n\",\"Reduced:\",r2[\"runtime\"]) "
   ]
  },
  {
   "cell_type": "markdown",
   "id": "ba170a83",
   "metadata": {},
   "source": [
    "Η διαφορά είναι πλέον αισθητή!"
   ]
  },
  {
   "cell_type": "markdown",
   "id": "f30f46d0",
   "metadata": {},
   "source": []
  }
 ],
 "metadata": {
  "kernelspec": {
   "display_name": "Python 3 (ipykernel)",
   "language": "python",
   "name": "python3"
  },
  "language_info": {
   "codemirror_mode": {
    "name": "ipython",
    "version": 3
   },
   "file_extension": ".py",
   "mimetype": "text/x-python",
   "name": "python",
   "nbconvert_exporter": "python",
   "pygments_lexer": "ipython3",
   "version": "3.10.12"
  }
 },
 "nbformat": 4,
 "nbformat_minor": 5
}
