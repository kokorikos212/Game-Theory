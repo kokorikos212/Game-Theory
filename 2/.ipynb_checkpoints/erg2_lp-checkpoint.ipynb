{
 "cells": [
  {
   "cell_type": "code",
   "execution_count": null,
   "id": "77c94671-e953-48fe-867c-f8e27f995b03",
   "metadata": {},
   "outputs": [],
   "source": [
    "# !pip install nashpy "
   ]
  },
  {
   "cell_type": "code",
   "execution_count": 12,
   "id": "1616a85c-0fc8-43f7-9f19-8f9878753f19",
   "metadata": {},
   "outputs": [],
   "source": [
    "import numpy as np \n",
    "import nashpy as ne\n",
    "from scipy.optimize import linprog "
   ]
  },
  {
   "cell_type": "code",
   "execution_count": 26,
   "id": "e8be1a04-3883-496b-94ac-3d36d7f83181",
   "metadata": {},
   "outputs": [],
   "source": [
    "def create_game_matrix(n_strategies):\n",
    "    \"\"\"Δημιουργεί τον πίνακα πληρωμής του παίκτη γραμμής με μοναδιμκό όρισμα τον αριθμό των δυνατών στρατηγικών. Ο παίκτης στήλης έχει πίνακα Β=-Α\"\"\"\n",
    "    n = n_players \n",
    "    A = np.zeros((n, n), dtype=int)\n",
    "\n",
    "    rows, cols = np.indices((n, n))\n",
    "    delta = cols - rows\n",
    "\n",
    "    A[delta == 1] = -1\n",
    "    A[delta > 1]  = 2\n",
    "    A[delta == -1] = 1\n",
    "    A[delta < -1] = -2\n",
    "\n",
    "    return A "
   ]
  },
  {
   "cell_type": "code",
   "execution_count": 25,
   "id": "311ab3ee-3d77-4062-9ddc-bf64b1ce4ac7",
   "metadata": {},
   "outputs": [
    {
     "name": "stdout",
     "output_type": "stream",
     "text": [
      "[[ 0 -1  2  2  2  2  2]\n",
      " [ 1  0 -1  2  2  2  2]\n",
      " [-2  1  0 -1  2  2  2]\n",
      " [-2 -2  1  0 -1  2  2]\n",
      " [-2 -2 -2  1  0 -1  2]\n",
      " [-2 -2 -2 -2  1  0 -1]\n",
      " [-2 -2 -2 -2 -2  1  0]]\n"
     ]
    }
   ],
   "source": [
    "A = create_game_matrix(7) \n",
    "print(A) "
   ]
  },
  {
   "cell_type": "markdown",
   "id": "d2ac70b2-89f1-4ae0-9169-08fe36c3ccc6",
   "metadata": {},
   "source": [
    "Παρατηρούμε πως η στον πίνακα Α του παίκτη γραμμής οι στρατηγικές του i>=4 είναι \"ποτέ βέλτιστες\", είναι δηλαδή ασθενώς κυριαρχημένες. Όπως θα δούμε και παρακάτω αυτό βγαίνει σαν συμπέρασμα και από τα αποτελέσματα των λύσεων των αντίστοιχων γραμμικών συστημάτων. Μπορούμε να χρησιμοποιήσουμε την απαλοιφή κυριαρχημένων στρατηγικών για να απλοποιήσουμε τον πίνακα Α.  "
   ]
  },
  {
   "cell_type": "code",
   "execution_count": 5,
   "id": "dc9ef916-87bf-43a3-9e4b-cf7f04a4e792",
   "metadata": {},
   "outputs": [],
   "source": []
  },
  {
   "cell_type": "code",
   "execution_count": 6,
   "id": "76512858-f2e0-46a6-9a4c-1392b2de8406",
   "metadata": {},
   "outputs": [],
   "source": [
    "def solve_game_with_nashpy(A):\n",
    "    \"\"\"\n",
    "    Λύνει παίγνιο μηδενικού αθροίσματος με τη βιβλιοθήκη nashpy.\n",
    "    \n",
    "    Parameters:\n",
    "        A (ndarray): Πίνακας πληρωμών του Παίκτη 1 (n x n)\n",
    "\n",
    "    Returns:\n",
    "        dict: Βέλτιστες μικτές στρατηγικές και τιμή παιγνίου\n",
    "    \"\"\"\n",
    "    game = ne.Game(A, -A)  # Παίγνιο μηδενικού αθροίσματος\n",
    "\n",
    "    equilibria = list(game.support_enumeration())\n",
    "\n",
    "    results = []\n",
    "    for eq in equilibria:\n",
    "        x, y = eq\n",
    "        value = x @ A @ y\n",
    "        results.append({\n",
    "            \"player_1_strategy\": x,\n",
    "            \"player_2_strategy\": y,\n",
    "            \"value\": value\n",
    "        })\n",
    "\n",
    "    return results"
   ]
  },
  {
   "cell_type": "code",
   "execution_count": 7,
   "id": "b069463c-d29d-443f-b33d-2f3790bf340d",
   "metadata": {},
   "outputs": [
    {
     "name": "stdout",
     "output_type": "stream",
     "text": [
      "Λύση 1:\n",
      "Στρατηγική Παίκτη 1: [0.25 0.5  0.25 0.   0.   0.   0.  ]\n",
      "Στρατηγική Παίκτη 2: [0.25 0.5  0.25 0.   0.   0.   0.  ]\n",
      "Τιμή παιγνίου: 0.0\n"
     ]
    }
   ],
   "source": [
    "# 🔹 Παράδειγμα: Matching Pennies\n",
    "\n",
    "solutions = solve_game_with_nashpy(A)\n",
    "\n",
    "for i, sol in enumerate(solutions):\n",
    "    print(f\"Λύση {i+1}:\")\n",
    "    print(\"Στρατηγική Παίκτη 1:\", sol[\"player_1_strategy\"])\n",
    "    print(\"Στρατηγική Παίκτη 2:\", sol[\"player_2_strategy\"])\n",
    "    print(\"Τιμή παιγνίου:\", sol[\"value\"])"
   ]
  },
  {
   "cell_type": "code",
   "execution_count": 290,
   "id": "1088d3e1-bd0a-45cf-a9be-aa1694621aa6",
   "metadata": {},
   "outputs": [],
   "source": [
    "from time import time \n",
    "def timer_func(func):\n",
    "    # This function shows the execution time of \n",
    "    # the function object passed\n",
    "    def wrap_func(*args, **kwargs):\n",
    "        t1 = time()\n",
    "        result = func(*args, **kwargs)\n",
    "        t2 = time()\n",
    "        # print(f'Function {func.__name__!r} with m,n = {args[0].shape} executed in {(t2-t1):.4f}s')\n",
    "        if isinstance(result, dict):\n",
    "            result['runtime'] = t2-t1\n",
    "            result['dimention'] = np.shape(args)[1]\n",
    "        return result \n",
    "    return wrap_func"
   ]
  },
  {
   "cell_type": "code",
   "execution_count": 291,
   "id": "84404e15-bca3-4e4f-8be2-02db20af2195",
   "metadata": {},
   "outputs": [],
   "source": [
    "@timer_func\n",
    "def solve_zero_sum_game(A):\n",
    "    \"\"\"\n",
    "    Λύνει το πρόβλημα του Παίκτη 1 με χρήση γραμμικού προγραμματισμού.\n",
    "\n",
    "    Parameters:\n",
    "        A (ndarray): Πίνακας πληρωμών Παίκτη 1\n",
    "\n",
    "    Returns:\n",
    "        dict: Περιλαμβάνει στρατηγική Παίκτη 1, τιμή παιγνίου και επιτυχία\n",
    "    \"\"\"\n",
    "    m, n = A.shape\n",
    "    c = np.zeros(m + 1)\n",
    "    c[-1] = -1  # Μεγιστοποίηση της τιμής του παιγνίου v\n",
    "\n",
    "    A_ub = np.hstack([-A.T, np.ones((n, 1))])  # λ.T A ≤ v\n",
    "    b_ub = np.zeros(n)\n",
    "\n",
    "    A_eq = np.zeros((1, m + 1))\n",
    "    A_eq[0, :-1] = 1\n",
    "    b_eq = [1]\n",
    "\n",
    "    bounds = [(0, None)] * (m + 1)\n",
    "\n",
    "    res = linprog(c=c, A_ub=A_ub, b_ub=b_ub, A_eq=A_eq, b_eq=b_eq, bounds=bounds, method=\"highs\")\n",
    "\n",
    "    return {\n",
    "        \"success\": res.success,\n",
    "        \"value\": -res.fun if res.success else None,\n",
    "        \"strategy\": res.x[:-1] if res.success else None,\n",
    "        \"status\": res.message\n",
    "    }"
   ]
  },
  {
   "cell_type": "markdown",
   "id": "3ec2990d-c89e-413a-8532-c952823ccc44",
   "metadata": {},
   "source": [
    "Θα δοκιμάσουμε διαφορετικά μεγέθη πινάκων για να δούμε πως αυξάνεται ο χρόνος υπολογισμού των βέλτιστων στρατηγικών προφίλ."
   ]
  },
  {
   "cell_type": "code",
   "execution_count": 307,
   "id": "247a0b28-04d9-4642-ba94-aef37b401a32",
   "metadata": {},
   "outputs": [],
   "source": [
    "results = []\n",
    "for i in range(2,25):\n",
    "    n = create_game_matrix(i**2)\n",
    "    A = (n)\n",
    "    result = solve_zero_sum_game(A) \n",
    "    results.append(result) "
   ]
  },
  {
   "cell_type": "code",
   "execution_count": 308,
   "id": "98e9566f-9ac9-452d-83a1-818025b363dd",
   "metadata": {},
   "outputs": [],
   "source": [
    "import matplotlib.pyplot as plt "
   ]
  },
  {
   "cell_type": "code",
   "execution_count": 309,
   "id": "75972784-a11e-4dbb-ae47-586c687f2b61",
   "metadata": {},
   "outputs": [
    {
     "name": "stdout",
     "output_type": "stream",
     "text": [
      "0.18081927299499512\n"
     ]
    },
    {
     "data": {
      "image/png": "[encoded data removed]",
      "text/plain": [
       "<Figure size 640x480 with 1 Axes>"
      ]
     },
     "metadata": {},
     "output_type": "display_data"
    }
   ],
   "source": [
    "runtimes = [entry['runtime'] for entry in results]\n",
    "space = np.linspace(2,25)\n",
    "f = lambda x: x**1/2 \n",
    "y = f(np.array(space) )  \n",
    "\n",
    "# plt.plot(y, label=r'$f(x) = \\sqrt{x}$')  # or use x^{1/2}\n",
    "plt.plot(runtimes, \"ro\",label=\"runtimes\" )\n",
    "plt.plot(runtimes)\n",
    "\n",
    "plt.legend()\n",
    "plt.xlabel('Instance Index')\n",
    "plt.ylabel('Runtime (s)')\n",
    "plt.title('Runtimes per Instance')\n",
    "plt.grid() \n",
    "plt.show() "
   ]
  },
  {
   "cell_type": "markdown",
   "id": "6ac80a87-6d24-44f8-beee-a0455f18601a",
   "metadata": {},
   "source": [
    "Πρατηρούμε ότι ο χρόνος αυξάνεται αρκετά γρήγορα για αυτό θα ρησιμοποιήσουμε την απαλοιφή τον ποτέ βέλτιστων στρατηγικών όπως αναφέραμε παραπάνω. Στο πρόβλημά μας θεωρητικά μπορούμε να απαλείψουμε όλες τις στήλες γραμμές από τη τεταρτη και μετά. Ο παρακάτω αλγόριθμος δουλεύει και για πίνακες που δεν αφορούν συγκεκριμμένα το πρόβλημα που παρουσιάζεται εδώ και βασίζεται στην ιδέα πως αν μια γραμμη κυριαρχεί ασθενώς πάνω σε μία άλλη, τότε κυριαρχεί και πανω σε όλες αυτές οι οποίες κυριαρχούνται απο αυτήν. Αν λοιπόν βρούμε κάποια που κυριαρχείται θα την θέσουμε ως αυτή με την οποία συγκρίνουμε μέχρι να τις συγκρίνουμε όλες. Θα τον τρέξουμε και θα δούμε πόσο βελτιώθηκε ο συνολικός χρόνος. "
   ]
  },
  {
   "cell_type": "code",
   "execution_count": 295,
   "id": "26db46c7-de95-473e-8a79-05b6c6198d16",
   "metadata": {},
   "outputs": [],
   "source": [
    "\n",
    "def remove_weakly_dominated_rows(A, strict=False):\n",
    "    \"\"\"\n",
    "    Αφαιρεί γραμμές που είναι ασθενώς κυριαρχούμενες από άλλες.\n",
    "    \n",
    "    Αν strict=True, αφαιρεί μόνο αυστηρά κυριαρχούμενες γραμμές.\n",
    "    Αν strict=False, εφαρμόζει και επαγωγική ασθενή κυριαρχία.\n",
    "    \n",
    "    Παράδειγμα χρήσης: A_reduced = remove_weakly_dominated_rows(A)\n",
    "    \"\"\"\n",
    "    A = np.array(A, dtype=float)\n",
    "    keep = np.ones(A.shape[0], dtype=bool)  # όλες οι γραμμές στην αρχή θεωρούνται χρήσιμες\n",
    "    \n",
    "    changed = True\n",
    "    while changed:\n",
    "        changed = False\n",
    "        for i in range(A.shape[0]):\n",
    "            if not keep[i]:\n",
    "                continue\n",
    "            for j in range(A.shape[0]):\n",
    "                if i == j or not keep[j]:\n",
    "                    continue\n",
    "                # Έλεγχος κυριαρχίας: γραμμή j κυριαρχεί τη γραμμή i\n",
    "                if strict:\n",
    "                    dominates = np.all(A[j] > A[i])\n",
    "                else:\n",
    "                    dominates = np.all(A[j] >= A[i]) and np.any(A[j] > A[i])\n",
    "                if dominates:\n",
    "                    keep[i] = False\n",
    "                    changed = True\n",
    "                    break  # ξαναξεκινάμε γιατί άλλαξε κάτι\n",
    "    \n",
    "    return A[keep]\n",
    " \n",
    "def remove_weakly_dominated_columns(A, strict=False):\n",
    "    return remove_weakly_dominated_rows(A.T, strict).T"
   ]
  },
  {
   "cell_type": "code",
   "execution_count": 296,
   "id": "3e942a11-eff5-42fd-af02-9ecd847791bf",
   "metadata": {},
   "outputs": [
    {
     "data": {
      "text/plain": [
       "(576, 576)"
      ]
     },
     "execution_count": 296,
     "metadata": {},
     "output_type": "execute_result"
    }
   ],
   "source": [
    "np.shape(A) "
   ]
  },
  {
   "cell_type": "code",
   "execution_count": 313,
   "id": "d5a9abe4-9bac-4f0c-bae5-81afbdcc3611",
   "metadata": {},
   "outputs": [],
   "source": [
    "@timer_func\n",
    "def solve_reduced_game(A):\n",
    "    A_red = remove_weakly_dominated_rows(A, strict=False)\n",
    "    A_red = remove_weakly_dominated_columns(A_red.Τ, strict=False)\n",
    "    print(np.shape(A_red)) \n",
    "    return solve_zero_sum_game(A_red)"
   ]
  },
  {
   "cell_type": "code",
   "execution_count": 314,
   "id": "69bd4ba2-85b3-4be2-82d2-8335b34d5f79",
   "metadata": {},
   "outputs": [
    {
     "name": "stdout",
     "output_type": "stream",
     "text": [
      "shapes after reductions:\n",
      "\n"
     ]
    },
    {
     "ename": "AttributeError",
     "evalue": "'numpy.ndarray' object has no attribute 'Τ'",
     "output_type": "error",
     "traceback": [
      "\u001b[0;31m---------------------------------------------------------------------------\u001b[0m",
      "\u001b[0;31mAttributeError\u001b[0m                            Traceback (most recent call last)",
      "Cell \u001b[0;32mIn[314], line 6\u001b[0m\n\u001b[1;32m      4\u001b[0m n \u001b[38;5;241m=\u001b[39m create_game_matrix(i\u001b[38;5;241m*\u001b[39m\u001b[38;5;241m*\u001b[39m\u001b[38;5;241m2\u001b[39m)\n\u001b[1;32m      5\u001b[0m A \u001b[38;5;241m=\u001b[39m (n)\n\u001b[0;32m----> 6\u001b[0m result \u001b[38;5;241m=\u001b[39m \u001b[43msolve_reduced_game\u001b[49m\u001b[43m(\u001b[49m\u001b[43mA\u001b[49m\u001b[43m)\u001b[49m  \n\u001b[1;32m      7\u001b[0m results\u001b[38;5;241m.\u001b[39mappend(result) \n",
      "Cell \u001b[0;32mIn[290], line 7\u001b[0m, in \u001b[0;36mtimer_func.<locals>.wrap_func\u001b[0;34m(*args, **kwargs)\u001b[0m\n\u001b[1;32m      5\u001b[0m \u001b[38;5;28;01mdef\u001b[39;00m \u001b[38;5;21mwrap_func\u001b[39m(\u001b[38;5;241m*\u001b[39margs, \u001b[38;5;241m*\u001b[39m\u001b[38;5;241m*\u001b[39mkwargs):\n\u001b[1;32m      6\u001b[0m     t1 \u001b[38;5;241m=\u001b[39m time()\n\u001b[0;32m----> 7\u001b[0m     result \u001b[38;5;241m=\u001b[39m \u001b[43mfunc\u001b[49m\u001b[43m(\u001b[49m\u001b[38;5;241;43m*\u001b[39;49m\u001b[43margs\u001b[49m\u001b[43m,\u001b[49m\u001b[43m \u001b[49m\u001b[38;5;241;43m*\u001b[39;49m\u001b[38;5;241;43m*\u001b[39;49m\u001b[43mkwargs\u001b[49m\u001b[43m)\u001b[49m\n\u001b[1;32m      8\u001b[0m     t2 \u001b[38;5;241m=\u001b[39m time()\n\u001b[1;32m      9\u001b[0m     \u001b[38;5;66;03m# print(f'Function {func.__name__!r} with m,n = {args[0].shape} executed in {(t2-t1):.4f}s')\u001b[39;00m\n",
      "Cell \u001b[0;32mIn[313], line 4\u001b[0m, in \u001b[0;36msolve_reduced_game\u001b[0;34m(A)\u001b[0m\n\u001b[1;32m      1\u001b[0m \u001b[38;5;129m@timer_func\u001b[39m\n\u001b[1;32m      2\u001b[0m \u001b[38;5;28;01mdef\u001b[39;00m \u001b[38;5;21msolve_reduced_game\u001b[39m(A):\n\u001b[1;32m      3\u001b[0m     A_red \u001b[38;5;241m=\u001b[39m remove_weakly_dominated_rows(A, strict\u001b[38;5;241m=\u001b[39m\u001b[38;5;28;01mFalse\u001b[39;00m)\n\u001b[0;32m----> 4\u001b[0m     A_red \u001b[38;5;241m=\u001b[39m remove_weakly_dominated_columns(\u001b[43mA_red\u001b[49m\u001b[38;5;241;43m.\u001b[39;49m\u001b[43mΤ\u001b[49m, strict\u001b[38;5;241m=\u001b[39m\u001b[38;5;28;01mFalse\u001b[39;00m)\n\u001b[1;32m      5\u001b[0m     \u001b[38;5;28mprint\u001b[39m(np\u001b[38;5;241m.\u001b[39mshape(A_red)) \n\u001b[1;32m      6\u001b[0m     \u001b[38;5;28;01mreturn\u001b[39;00m solve_zero_sum_game(A_red)\n",
      "\u001b[0;31mAttributeError\u001b[0m: 'numpy.ndarray' object has no attribute 'Τ'"
     ]
    }
   ],
   "source": [
    "results = []\n",
    "print(\"shapes after reductions:\\n\")\n",
    "for i in range(2,25):\n",
    "    n = create_game_matrix(i**2)\n",
    "    A = (n)\n",
    "    result = solve_reduced_game(A)  \n",
    "    results.append(result) "
   ]
  },
  {
   "cell_type": "code",
   "execution_count": 312,
   "id": "6e15ec7c-e358-4ff9-8bfb-f0faa608a399",
   "metadata": {},
   "outputs": [
    {
     "data": {
      "image/png": "[encoded data removed]",
      "text/plain": [
       "<Figure size 640x480 with 1 Axes>"
      ]
     },
     "metadata": {},
     "output_type": "display_data"
    }
   ],
   "source": [
    "runtimes = [entry['runtime'] for entry in results]\n",
    "space = np.linspace(start=2,stop=25)\n",
    "f = lambda x: x**1/2 \n",
    "# y = f(np.array(space) ) \n",
    "# print(f(np.max(runtimes)) ) \n",
    "\n",
    "# plt.plot(y, label=r'$f(x) = \\sqrt{x}$')  # or use x^{1/2}\n",
    "plt.plot(runtimes, \"ro\",label=\"runtimes\" )\n",
    "plt.plot(runtimes)\n",
    "\n",
    "plt.legend()\n",
    "plt.xlabel('Instance Index')\n",
    "plt.ylabel('Runtime (s)')\n",
    "plt.title('Runtimes per Instance')\n",
    "plt.grid() \n",
    "plt.show() "
   ]
  },
  {
   "cell_type": "code",
   "execution_count": null,
   "id": "eea4a552-6439-495a-84c5-4c164329a0f4",
   "metadata": {},
   "outputs": [],
   "source": [
    "Po"
   ]
  }
 ],
 "metadata": {
  "kernelspec": {
   "display_name": "Python 3 (ipykernel)",
   "language": "python",
   "name": "python3"
  },
  "language_info": {
   "codemirror_mode": {
    "name": "ipython",
    "version": 3
   },
   "file_extension": ".py",
   "mimetype": "text/x-python",
   "name": "python",
   "nbconvert_exporter": "python",
   "pygments_lexer": "ipython3",
   "version": "3.10.12"
  }
 },
 "nbformat": 4,
 "nbformat_minor": 5
}
